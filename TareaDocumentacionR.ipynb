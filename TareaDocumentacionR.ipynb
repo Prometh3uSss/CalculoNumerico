{
 "cells": [
  {
   "cell_type": "code",
   "execution_count": null,
   "metadata": {
    "vscode": {
     "languageId": "plaintext"
    }
   },
   "outputs": [],
   "source": [
    "1. Introducción a R\n",
    "\n",
    "Qué es R: Un lenguaje de código abierto enfocado en análisis estadístico, manipulación de datos y gráficos.\n",
    "\n",
    "Usos comunes:\n",
    "\n",
    "Análisis exploratorio de datos (EDA).\n",
    "\n",
    "Modelado estadístico (regresiones, machine learning).\n",
    "\n",
    "Visualización de datos (gráficos interactivos o estáticos).\n",
    "\n",
    "Generación de informes automatizados (con herramientas como RMarkdown).\n",
    "\n",
    "2. Sintaxis Básica\n",
    "\n",
    "Variables y Tipos de Datos\n",
    "Asignación de variables: Usa <- o = (se recomienda <- por convención)."
   ]
  },
  {
   "cell_type": "code",
   "execution_count": null,
   "metadata": {
    "vscode": {
     "languageId": "r"
    }
   },
   "outputs": [],
   "source": [
    "x <- 10             # Numérico\n",
    "nombre <- \"Ana\"     # Texto (string)\n",
    "es_activo <- TRUE   # Lógico (boolean)"
   ]
  },
  {
   "cell_type": "code",
   "execution_count": null,
   "metadata": {
    "vscode": {
     "languageId": "plaintext"
    }
   },
   "outputs": [],
   "source": [
    "Tipos de Datos Principales:\n",
    "\n",
    "Numeric: Números (enteros o decimales).\n",
    "\n",
    "Character: Texto entre comillas (\"hola\").\n",
    "\n",
    "Logical: TRUE o FALSE.\n",
    "\n",
    "Factor: Categorías (útil para datos nominales u ordinales)."
   ]
  },
  {
   "cell_type": "code",
   "execution_count": null,
   "metadata": {
    "vscode": {
     "languageId": "plaintext"
    }
   },
   "outputs": [],
   "source": [
    "3. Estructuras de Datos;\n",
    "\n",
    "Vectores:\n",
    "Colección de elementos del mismo tipo."
   ]
  },
  {
   "cell_type": "code",
   "execution_count": null,
   "metadata": {
    "vscode": {
     "languageId": "r"
    }
   },
   "outputs": [],
   "source": [
    "vector_numerico <- c(1, 2, 3, 4)  # Usa c() para crear vectores\n",
    "vector_texto <- c(\"a\", \"b\", \"c\")"
   ]
  },
  {
   "cell_type": "code",
   "execution_count": null,
   "metadata": {
    "vscode": {
     "languageId": "plaintext"
    }
   },
   "outputs": [],
   "source": [
    "Matrices:\n",
    "\n",
    "Vectores 2D con elementos del mismo tipo."
   ]
  },
  {
   "cell_type": "code",
   "execution_count": null,
   "metadata": {
    "vscode": {
     "languageId": "r"
    }
   },
   "outputs": [],
   "source": [
    "matriz <- matrix(c(1, 2, 3, 4), nrow = 2, ncol = 2)"
   ]
  },
  {
   "cell_type": "code",
   "execution_count": null,
   "metadata": {
    "vscode": {
     "languageId": "plaintext"
    }
   },
   "outputs": [],
   "source": [
    "Data Frames:\n",
    "\n",
    "Estructura 2D similar a una tabla de Excel, con columnas de distintos tipos."
   ]
  },
  {
   "cell_type": "code",
   "execution_count": null,
   "metadata": {
    "vscode": {
     "languageId": "r"
    }
   },
   "outputs": [],
   "source": [
    "df <- data.frame(\n",
    "  nombre = c(\"Ana\", \"Juan\", \"María\"),\n",
    "  edad = c(25, 30, 22),\n",
    "  activo = c(TRUE, FALSE, TRUE)\n",
    ")"
   ]
  },
  {
   "cell_type": "code",
   "execution_count": null,
   "metadata": {
    "vscode": {
     "languageId": "plaintext"
    }
   },
   "outputs": [],
   "source": [
    "Listas:\n",
    "\n",
    "Colección de elementos de cualquier tipo o estructura."
   ]
  },
  {
   "cell_type": "code",
   "execution_count": null,
   "metadata": {
    "vscode": {
     "languageId": "r"
    }
   },
   "outputs": [],
   "source": [
    "lista <- list(nombre = \"Ana\", edad = 25, hobbies = c(\"leer\", \"correr\"))"
   ]
  },
  {
   "cell_type": "code",
   "execution_count": null,
   "metadata": {
    "vscode": {
     "languageId": "plaintext"
    }
   },
   "outputs": [],
   "source": [
    "4. Control de Flujo:\n",
    "\n",
    "Condicionales\n",
    "if-else:"
   ]
  },
  {
   "cell_type": "code",
   "execution_count": null,
   "metadata": {
    "vscode": {
     "languageId": "r"
    }
   },
   "outputs": [],
   "source": [
    "if (edad >= 18) {\n",
    "  print(\"Mayor de edad\")\n",
    "} else {\n",
    "  print(\"Menor de edad\")\n",
    "}"
   ]
  },
  {
   "cell_type": "code",
   "execution_count": null,
   "metadata": {
    "vscode": {
     "languageId": "plaintext"
    }
   },
   "outputs": [],
   "source": [
    "Bucles:\n",
    "\n",
    "for:"
   ]
  },
  {
   "cell_type": "code",
   "execution_count": null,
   "metadata": {
    "vscode": {
     "languageId": "r"
    }
   },
   "outputs": [],
   "source": [
    "for (i in 1:5) {\n",
    "  print(paste(\"Iteración:\", i))\n",
    "}"
   ]
  },
  {
   "cell_type": "code",
   "execution_count": null,
   "metadata": {
    "vscode": {
     "languageId": "plaintext"
    }
   },
   "outputs": [],
   "source": [
    "while:"
   ]
  },
  {
   "cell_type": "code",
   "execution_count": null,
   "metadata": {
    "vscode": {
     "languageId": "r"
    }
   },
   "outputs": [],
   "source": [
    "contador <- 1\n",
    "while (contador <= 5) {\n",
    "  print(contador)\n",
    "  contador <- contador + 1\n",
    "}"
   ]
  },
  {
   "cell_type": "code",
   "execution_count": null,
   "metadata": {
    "vscode": {
     "languageId": "plaintext"
    }
   },
   "outputs": [],
   "source": [
    "5. Funciones:\n",
    "\n",
    "Crear una función:"
   ]
  },
  {
   "cell_type": "code",
   "execution_count": null,
   "metadata": {
    "vscode": {
     "languageId": "r"
    }
   },
   "outputs": [],
   "source": [
    "calcular_promedio <- function(numeros) {\n",
    "  suma <- sum(numeros)\n",
    "  n <- length(numeros)\n",
    "  return(suma / n)\n",
    "}\n",
    "\n",
    "promedio <- calcular_promedio(c(10, 20, 30))  # Retorna 20"
   ]
  },
  {
   "cell_type": "code",
   "execution_count": null,
   "metadata": {
    "vscode": {
     "languageId": "plaintext"
    }
   },
   "outputs": [],
   "source": [
    "6. Manipulación de Datos (Ejemplo Práctico):\n",
    "\n",
    "Usando el Paquete dplyr\n",
    "Instala y carga el paquete para manipulación eficiente:"
   ]
  },
  {
   "cell_type": "code",
   "execution_count": null,
   "metadata": {
    "vscode": {
     "languageId": "r"
    }
   },
   "outputs": [],
   "source": [
    "install.packages(\"dplyr\")\n",
    "library(dplyr)"
   ]
  },
  {
   "cell_type": "code",
   "execution_count": null,
   "metadata": {
    "vscode": {
     "languageId": "plaintext"
    }
   },
   "outputs": [],
   "source": [
    "Filtrar Filas:"
   ]
  },
  {
   "cell_type": "code",
   "execution_count": null,
   "metadata": {
    "vscode": {
     "languageId": "r"
    }
   },
   "outputs": [],
   "source": [
    "df_filtrado <- df %>% filter(edad > 25)"
   ]
  },
  {
   "cell_type": "code",
   "execution_count": null,
   "metadata": {
    "vscode": {
     "languageId": "plaintext"
    }
   },
   "outputs": [],
   "source": [
    "Seleccionar Columnas:"
   ]
  },
  {
   "cell_type": "code",
   "execution_count": null,
   "metadata": {
    "vscode": {
     "languageId": "r"
    }
   },
   "outputs": [],
   "source": [
    "df_nombres <- df %>% select(nombre, edad)"
   ]
  },
  {
   "cell_type": "code",
   "execution_count": null,
   "metadata": {
    "vscode": {
     "languageId": "plaintext"
    }
   },
   "outputs": [],
   "source": [
    "Crear Nuevas Columnas:"
   ]
  },
  {
   "cell_type": "code",
   "execution_count": null,
   "metadata": {
    "vscode": {
     "languageId": "r"
    }
   },
   "outputs": [],
   "source": [
    "df <- df %>% mutate(edad_mas_5 = edad + 5)"
   ]
  },
  {
   "cell_type": "code",
   "execution_count": null,
   "metadata": {
    "vscode": {
     "languageId": "plaintext"
    }
   },
   "outputs": [],
   "source": [
    "7. Visualización con ggplot2\n",
    "\n",
    "Instala y carga el paquete para gráficos:"
   ]
  },
  {
   "cell_type": "code",
   "execution_count": null,
   "metadata": {
    "vscode": {
     "languageId": "r"
    }
   },
   "outputs": [],
   "source": [
    "install.packages(\"ggplot2\")\n",
    "library(ggplot2)\n",
    "\n",
    "#Grafico de Dispersion:\n",
    "\n",
    "ggplot(df, aes(x = edad, y = activo)) +\n",
    "  geom_point() +\n",
    "  labs(title = \"Edad vs Estado Activo\")"
   ]
  },
  {
   "cell_type": "code",
   "execution_count": null,
   "metadata": {
    "vscode": {
     "languageId": "plaintext"
    }
   },
   "outputs": [],
   "source": [
    "8. Recursos Adicionales:\n",
    "\n",
    "Ayuda en R: Usa ?función para ver documentación (ejemplo: ?sum).\n",
    "\n",
    "Paquetes útiles:\n",
    "\n",
    "tidyverse: Colección de paquetes para ciencia de datos.\n",
    "\n",
    "shiny: Crear aplicaciones web interactivas.\n",
    "\n",
    "caret: Machine Learning."
   ]
  },
  {
   "cell_type": "code",
   "execution_count": null,
   "metadata": {
    "vscode": {
     "languageId": "plaintext"
    }
   },
   "outputs": [],
   "source": [
    "Ejemplo Completo: Análisis de Datos:"
   ]
  },
  {
   "cell_type": "code",
   "execution_count": null,
   "metadata": {
    "vscode": {
     "languageId": "r"
    }
   },
   "outputs": [],
   "source": [
    "# Cargar datos\n",
    "datos <- read.csv(\"datos.csv\")\n",
    "\n",
    "# Resumen estadístico\n",
    "summary(datos)\n",
    "\n",
    "# Gráfico de barras\n",
    "ggplot(datos, aes(x = categoria)) +\n",
    "  geom_bar(fill = \"blue\") +\n",
    "  ggtitle(\"Frecuencia por Categoría\")"
   ]
  }
 ],
 "metadata": {
  "language_info": {
   "name": "python"
  }
 },
 "nbformat": 4,
 "nbformat_minor": 2
}
